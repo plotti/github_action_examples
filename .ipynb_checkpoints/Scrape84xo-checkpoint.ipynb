{
 "cells": [
  {
   "cell_type": "code",
   "execution_count": 1,
   "id": "a42d5df6",
   "metadata": {},
   "outputs": [],
   "source": [
    "from pathlib import Path\n",
    "import datetime\n",
    "import pytz\n",
    "from itertools import chain\n",
    "import requests\n",
    "from bs4 import BeautifulSoup"
   ]
  },
  {
   "cell_type": "code",
   "execution_count": 14,
   "id": "fb0b409c",
   "metadata": {},
   "outputs": [
    {
     "data": {
      "text/plain": [
       "'Die «Startup Nights» haben das nächste Level erreicht'"
      ]
     },
     "execution_count": 14,
     "metadata": {},
     "output_type": "execute_result"
    }
   ],
   "source": [
    "html_content = requests.get(\"https://84xo.ch\").text\n",
    "soup = BeautifulSoup(html_content)\n",
    "main_headline = soup.select(\".MainHighlightedNews_main_highlighted_news_title__uFcsH\")[0].text\n",
    "main_headline"
   ]
  },
  {
   "cell_type": "code",
   "execution_count": null,
   "id": "4c171ddf",
   "metadata": {},
   "outputs": [],
   "source": []
  }
 ],
 "metadata": {
  "kernelspec": {
   "display_name": "ppp",
   "language": "python",
   "name": "ppp"
  },
  "language_info": {
   "codemirror_mode": {
    "name": "ipython",
    "version": 3
   },
   "file_extension": ".py",
   "mimetype": "text/x-python",
   "name": "python",
   "nbconvert_exporter": "python",
   "pygments_lexer": "ipython3",
   "version": "3.6.13"
  }
 },
 "nbformat": 4,
 "nbformat_minor": 5
}
